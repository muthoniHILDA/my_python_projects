{
 "cells": [
  {
   "cell_type": "code",
   "execution_count": 1,
   "id": "a74c204f",
   "metadata": {},
   "outputs": [
    {
     "name": "stdout",
     "output_type": "stream",
     "text": [
      "245\n",
      "81.66666666666667\n"
     ]
    }
   ],
   "source": [
    "a=200\n",
    "b=33\n",
    "c=12\n",
    "sum=a+b+c\n",
    "avmark=sum/3\n",
    "print(sum)\n",
    "print(avmark)"
   ]
  },
  {
   "cell_type": "code",
   "execution_count": 18,
   "id": "f52848e3",
   "metadata": {},
   "outputs": [
    {
     "name": "stdout",
     "output_type": "stream",
     "text": [
      "1\n",
      "2\n",
      "3\n",
      "4\n",
      "5\n",
      "6\n",
      "7\n",
      "8\n",
      "9 is greater than 8\n"
     ]
    }
   ],
   "source": [
    "i=1\n",
    "while i<=8:\n",
    "    print(i)\n",
    "    i+=1\n",
    "else:\n",
    "    print(i,\"is greater than\", 8)\n",
    "        \n",
    "    \n",
    "    \n",
    "   \n",
    "    \n",
    "    "
   ]
  },
  {
   "cell_type": "code",
   "execution_count": 1,
   "id": "b833fef9",
   "metadata": {},
   "outputs": [
    {
     "name": "stdout",
     "output_type": "stream",
     "text": [
      "enter your marks34\n",
      "E\n"
     ]
    }
   ],
   "source": [
    "marks=int(input(\"enter your marks\"))\n",
    "if (marks>=80):\n",
    "    print(\"A\")\n",
    "elif(marks>=70):\n",
    "    print(\"B\")\n",
    "else:\n",
    "    print(\"E\")\n",
    "\n"
   ]
  },
  {
   "cell_type": "code",
   "execution_count": 2,
   "id": "5f33ff89",
   "metadata": {},
   "outputs": [
    {
     "name": "stdout",
     "output_type": "stream",
     "text": [
      "enter your marks:92\n",
      "A\n"
     ]
    }
   ],
   "source": [
    "m=int(input(\"enter your marks:\"))\n",
    "if(m>=80):\n",
    "    print(\"A\")\n",
    " elif(m>=60):\n",
    "    print(\"B\")\n",
    "else:\n",
    "    print(\"C\")"
   ]
  },
  {
   "cell_type": "code",
   "execution_count": 2,
   "id": "45271556",
   "metadata": {},
   "outputs": [
    {
     "name": "stdout",
     "output_type": "stream",
     "text": [
      "ENTER YOUR NAME father\n",
      "hello father\n"
     ]
    }
   ],
   "source": [
    "B=str(input(\"ENTER YOUR NAME \"))\n",
    "A=(\"hello \"+B)\n",
    "print(A)"
   ]
  },
  {
   "cell_type": "code",
   "execution_count": 21,
   "id": "9b3b68ca",
   "metadata": {},
   "outputs": [
    {
     "name": "stdout",
     "output_type": "stream",
     "text": [
      "[[1 2]\n",
      " [3 4]]\n"
     ]
    }
   ],
   "source": [
    "import numpy as np\n",
    "A=np.array([[1,2],[3,4]])\n",
    "print(A)"
   ]
  },
  {
   "cell_type": "code",
   "execution_count": 6,
   "id": "256925b8",
   "metadata": {},
   "outputs": [
    {
     "name": "stdout",
     "output_type": "stream",
     "text": [
      "apple\n",
      "pineapple\n",
      "banana\n"
     ]
    }
   ],
   "source": [
    "fruits=(\"apple\",\"pineapple\",\"banana\",\"cherry\")\n",
    "for x in fruits:\n",
    "    print(x)\n",
    "    if x==\"banana\":\n",
    "        break"
   ]
  },
  {
   "cell_type": "code",
   "execution_count": 1,
   "id": "e3826139",
   "metadata": {},
   "outputs": [
    {
     "name": "stdout",
     "output_type": "stream",
     "text": [
      "5\n"
     ]
    }
   ],
   "source": [
    "hilda=5\n",
    "print(hilda)"
   ]
  },
  {
   "cell_type": "code",
   "execution_count": 1,
   "id": "edc2266e",
   "metadata": {},
   "outputs": [
    {
     "ename": "SyntaxError",
     "evalue": "invalid syntax (1785113030.py, line 4)",
     "output_type": "error",
     "traceback": [
      "\u001b[1;36m  Input \u001b[1;32mIn [1]\u001b[1;36m\u001b[0m\n\u001b[1;33m    print(b\"is less than\"a)\u001b[0m\n\u001b[1;37m                         ^\u001b[0m\n\u001b[1;31mSyntaxError\u001b[0m\u001b[1;31m:\u001b[0m invalid syntax\n"
     ]
    }
   ],
   "source": [
    "a=33\n",
    "b=200\n",
    "if (b<a):\n",
    "    print(b\"is less than\"a)\n",
    "elif(a==b):\n",
    "    print(\"a and b are equal\")\n",
    "else:\n",
    "    print(a\"is less than\"b)"
   ]
  },
  {
   "cell_type": "code",
   "execution_count": 11,
   "id": "0b5fd0f3",
   "metadata": {},
   "outputs": [
    {
     "name": "stdout",
     "output_type": "stream",
     "text": [
      "0\n",
      "2\n",
      "4\n",
      "6\n",
      "8\n"
     ]
    }
   ],
   "source": [
    "for i in range(0,10,2):\n",
    "    print(i)"
   ]
  },
  {
   "cell_type": "code",
   "execution_count": 2,
   "id": "5549a848",
   "metadata": {},
   "outputs": [
    {
     "name": "stdout",
     "output_type": "stream",
     "text": [
      "1\n",
      "2\n",
      "3\n",
      "4\n",
      "5\n",
      "6\n",
      "7\n",
      "8\n",
      "9\n",
      "10\n"
     ]
    }
   ],
   "source": [
    "i=1\n",
    "while i<=10:\n",
    "    print(i)\n",
    "    i+=1"
   ]
  },
  {
   "cell_type": "code",
   "execution_count": null,
   "id": "aa5bc57f",
   "metadata": {},
   "outputs": [],
   "source": [
    "monte carlo model\n",
    "data camps"
   ]
  },
  {
   "cell_type": "markdown",
   "id": "071d71ad",
   "metadata": {},
   "source": [
    " ## wamnyonyis project \n",
    " Tis is a project to  show that people are good or bad"
   ]
  },
  {
   "cell_type": "code",
   "execution_count": 4,
   "id": "1292f47d",
   "metadata": {},
   "outputs": [
    {
     "name": "stdout",
     "output_type": "stream",
     "text": [
      "<class 'str'>\n"
     ]
    }
   ],
   "source": [
    "m=\"hilda\"\n",
    "print(type(m))"
   ]
  },
  {
   "cell_type": "code",
   "execution_count": 3,
   "id": "7b956f6d",
   "metadata": {},
   "outputs": [
    {
     "name": "stdout",
     "output_type": "stream",
     "text": [
      "wenesday\n",
      "i love muthoni\n",
      "probability of muthoni getting married\n"
     ]
    }
   ],
   "source": [
    "\n",
    "print(\"wenesday\")\n",
    "print(\"i love muthoni\")\n",
    "print(\"probability of muthoni getting married\")"
   ]
  },
  {
   "cell_type": "markdown",
   "id": "c4a7950d",
   "metadata": {},
   "source": [
    "a=2\n",
    "b=0.7\n",
    "print(\"The sum is: \",a+b)\n"
   ]
  },
  {
   "cell_type": "code",
   "execution_count": 19,
   "id": "0ea34469",
   "metadata": {},
   "outputs": [
    {
     "name": "stdout",
     "output_type": "stream",
     "text": [
      "what is the starting point2\n",
      "what is the ending point11\n",
      "2\n",
      "4\n",
      "6\n",
      "8\n",
      "10\n"
     ]
    }
   ],
   "source": [
    "x=int(input(\"what is the starting point\"))\n",
    "y=int(input(\"what is the ending point\"))\n",
    "for i in range(x,y):\n",
    "    if i%2==0:\n",
    "        print(i)\n"
   ]
  },
  {
   "cell_type": "code",
   "execution_count": 33,
   "id": "e541f2f3",
   "metadata": {},
   "outputs": [
    {
     "name": "stdout",
     "output_type": "stream",
     "text": [
      "0\n",
      "2\n",
      "4\n",
      "6\n",
      "8\n"
     ]
    }
   ],
   "source": [
    "def even(st,ep):\n",
    "    for i in range(st,ep):\n",
    "        if i%2==0:\n",
    "            print(i)\n",
    "even(0,10)"
   ]
  },
  {
   "cell_type": "code",
   "execution_count": 3,
   "id": "94a0f3b5",
   "metadata": {},
   "outputs": [
    {
     "name": "stdout",
     "output_type": "stream",
     "text": [
      "<class 'str'>\n"
     ]
    }
   ],
   "source": [
    "v=\"JACKSON WAGURA\"\n",
    "print(type(v))"
   ]
  },
  {
   "cell_type": "code",
   "execution_count": null,
   "id": "349ac354",
   "metadata": {},
   "outputs": [],
   "source": []
  },
  {
   "cell_type": "code",
   "execution_count": null,
   "id": "e45b2205",
   "metadata": {},
   "outputs": [],
   "source": []
  }
 ],
 "metadata": {
  "kernelspec": {
   "display_name": "Python 3 (ipykernel)",
   "language": "python",
   "name": "python3"
  },
  "language_info": {
   "codemirror_mode": {
    "name": "ipython",
    "version": 3
   },
   "file_extension": ".py",
   "mimetype": "text/x-python",
   "name": "python",
   "nbconvert_exporter": "python",
   "pygments_lexer": "ipython3",
   "version": "3.9.12"
  }
 },
 "nbformat": 4,
 "nbformat_minor": 5
}
