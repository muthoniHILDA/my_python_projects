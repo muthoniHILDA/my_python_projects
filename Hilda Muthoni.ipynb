{
 "cells": [
  {
   "cell_type": "markdown",
   "id": "5fe0cf70",
   "metadata": {},
   "source": [
    "# GRADING SYSTEM \n",
    "The project is about granding the students marks it prompts the user to key in marks"
   ]
  },
  {
   "cell_type": "code",
   "execution_count": 2,
   "id": "f7e3e7ed",
   "metadata": {},
   "outputs": [
    {
     "name": "stdout",
     "output_type": "stream",
     "text": [
      "Enter students marks: 39\n",
      "FAIL\n",
      "YOU ARE JOKING\n"
     ]
    }
   ],
   "source": [
    "marks=int(input(\"Enter students marks: \"))\n",
    "if(marks>=70 and marks<=100):\n",
    "    print(\"A\")\n",
    "elif(marks>=60):\n",
    "    print(\"B\")\n",
    "elif(marks>=50):\n",
    "    print(\"C\")\n",
    "elif(marks>=40):\n",
    "    print(\"D\")\n",
    "else:\n",
    "    print(\"FAIL\")\n",
    "if(marks>=40 and marks<=100):\n",
    "     print('CONGRATULATIONS🎁🎁') \n",
    "else:\n",
    "            print('YOU ARE JOKING')\n",
    "    "
   ]
  },
  {
   "cell_type": "markdown",
   "id": "3cf30bdf",
   "metadata": {},
   "source": [
    "# solving a quadratic equqtion\n",
    "The project is about solving a quadratic equation usingthe  quadratic formula"
   ]
  },
  {
   "cell_type": "code",
   "execution_count": 43,
   "id": "70b5a5bf",
   "metadata": {},
   "outputs": [
    {
     "name": "stdout",
     "output_type": "stream",
     "text": [
      "Enter a:5\n",
      "Enter b:9\n",
      "Enter c:2\n",
      "Roots: -0.2596875762567151 -1.5403124237432848\n",
      "real roots\n"
     ]
    }
   ],
   "source": [
    "from math import sqrt\n",
    "a=float(input(\"Enter a:\"))\n",
    "b=float(input(\"Enter b:\"))\n",
    "c=float(input(\"Enter c:\"))\n",
    "d=b**2-(4*a*c)\n",
    "if(d>0):\n",
    "    A1=(-b+sqrt(d))/(2*a)\n",
    "    A2=(-b-sqrt(d))/(2*a)\n",
    "    print(\"Roots:\",A1,A2)\n",
    "    print(\"real roots\")\n",
    "elif(d==0):\n",
    "    B=-b/(2*a)\n",
    "    print(\"Root:\",B)\n",
    "    print(\"equal root\")\n",
    "elif(d<0):\n",
    "    E1=(-b+sqrt(abs(d)))/(2*a)\n",
    "    E2=(-b-sqrt(abs(d)))/(2*a)\n",
    "    print(\"Root:\",E1,E2)\n",
    "    print(\"complex roots\")\n",
    "else:\n",
    "    print(\"this is not a quadratic equation\")\n",
    "\n",
    "    \n",
    "    \n"
   ]
  },
  {
   "cell_type": "code",
   "execution_count": 5,
   "id": "92456cab",
   "metadata": {},
   "outputs": [
    {
     "name": "stdout",
     "output_type": "stream",
     "text": [
      "Enter your age:12\n",
      "GO AWAY,you are a child\n"
     ]
    }
   ],
   "source": [
    "age=int(input(\"Enter your age:\"))\n",
    "if age<18:\n",
    "    print(\"GO AWAY,you are a child\")\n",
    "elif age>=18:\n",
    "    print(\"welcome AT YOUR OWN RISK\")\n"
   ]
  },
  {
   "cell_type": "code",
   "execution_count": null,
   "id": "339cd66f",
   "metadata": {},
   "outputs": [],
   "source": [
    "from math import sqrt\n",
    "a=float(input(\"Enter a:\"))\n",
    "b=float(input(\"Enter b:\"))\n",
    "c=float(input(\"Enter c:\"))\n",
    "d=b**2-(4*a*c)\n",
    "if(d>0):\n",
    "    A1=(-b+sqrt(d))/(2*a)\n",
    "    A2=(-b-sqrt(d))/(2*a)\n",
    "    print(\"Roots:\",A1,A2)\n",
    "elif(d<0):\n",
    "    E1=(-b+sqrt(abs(d)))/(2*a)\n",
    "    E2=(-b-sqrt(abs(d)))/(2*a)\n",
    "    print(\"Root:\",E1,E2)\n",
    "else:\n",
    "    print(\"this is not a quadratic equation\")\n",
    "\n",
    "    \n",
    "    "
   ]
  },
  {
   "cell_type": "code",
   "execution_count": 8,
   "id": "e2278846",
   "metadata": {},
   "outputs": [
    {
     "name": "stdout",
     "output_type": "stream",
     "text": [
      "you are welcome\n"
     ]
    }
   ],
   "source": [
    "def prestige(age):\n",
    "    if age>=18:\n",
    "        print(\"you are welcome\")\n",
    "    elif age<18:\n",
    "        print(\"you are not allowed in since you are underage\")\n",
    "prestige(20)"
   ]
  },
  {
   "cell_type": "code",
   "execution_count": 3,
   "id": "888782aa",
   "metadata": {},
   "outputs": [
    {
     "name": "stdout",
     "output_type": "stream",
     "text": [
      "how old are you:24\n",
      "you are welcome\n"
     ]
    }
   ],
   "source": [
    "age=int(input(\"how old are you:\"))\n",
    "def prestige(age):\n",
    "    if age>=18:\n",
    "        print(\"you are welcome\")\n",
    "    elif age<18:\n",
    "        print(\"you are not allowed in since you are underage\")\n",
    "prestige(age)"
   ]
  },
  {
   "cell_type": "code",
   "execution_count": 4,
   "id": "23797c67",
   "metadata": {},
   "outputs": [
    {
     "name": "stdout",
     "output_type": "stream",
     "text": [
      "Enter a number: 17\n",
      "17 is an odd number.\n"
     ]
    }
   ],
   "source": [
    "\n",
    "number = int(input(\"Enter a number: \"))\n",
    "if number % 2 == 0:\n",
    "    print(number, \"is an even number.\")\n",
    "else:\n",
    "    print(number, \"is an odd number.\")"
   ]
  },
  {
   "cell_type": "code",
   "execution_count": 4,
   "id": "ea33cdde",
   "metadata": {},
   "outputs": [
    {
     "name": "stdout",
     "output_type": "stream",
     "text": [
      "[100 110 120 130 140 150 160 170 180 190]\n",
      "[[100 110]\n",
      " [120 130]\n",
      " [140 150]\n",
      " [160 170]\n",
      " [180 190]]\n"
     ]
    }
   ],
   "source": [
    "import numpy as np\n",
    "samplearray=np.arange(100,200,10)\n",
    "print(samplearray)\n",
    "samplearray=samplearray.reshape(5,2)\n",
    "print(samplearray)"
   ]
  },
  {
   "cell_type": "code",
   "execution_count": 6,
   "id": "e2c42f44",
   "metadata": {},
   "outputs": [
    {
     "name": "stdout",
     "output_type": "stream",
     "text": [
      "[[1.07212798e-311 2.47032823e-322 0.00000000e+000 0.00000000e+000]\n",
      " [0.00000000e+000 2.46567317e+179 6.81639068e-091 1.42023802e+161]\n",
      " [1.00525363e-047 4.27696990e-037 3.99910963e+252 1.46030983e-319]]\n"
     ]
    }
   ],
   "source": [
    "import numpy as np\n",
    "x=np.empty((3,4))\n",
    "print(x)\n"
   ]
  },
  {
   "cell_type": "code",
   "execution_count": 4,
   "id": "bd403de3",
   "metadata": {},
   "outputs": [
    {
     "name": "stdout",
     "output_type": "stream",
     "text": [
      "[[1, 2], [2, 3]]\n",
      "[[4, 5], [6, 7]]\n",
      "[[16 19]\n",
      " [26 31]]\n"
     ]
    }
   ],
   "source": [
    "import numpy as np\n",
    "p=[[1,2],[2,3]]\n",
    "q=[[4,5],[6,7]]\n",
    "print(p)\n",
    "print(q)\n",
    "result=np.dot(p,q)\n",
    "print(result)"
   ]
  },
  {
   "cell_type": "code",
   "execution_count": 13,
   "id": "ca258fb6",
   "metadata": {},
   "outputs": [
    {
     "name": "stdout",
     "output_type": "stream",
     "text": [
      "[[ 1  2  3  4]\n",
      " [ 5  6  7  8]\n",
      " [ 9 10 11 12]\n",
      " [13 14 15 16]]\n",
      "-1.820448242817726e-31\n",
      "[[ 1.50119988e+15 -3.75299969e+14 -3.75299969e+15  2.62709978e+15]\n",
      " [-1.95155984e+16  1.95155984e+16  1.95155984e+16 -1.95155984e+16]\n",
      " [ 3.45275971e+16 -3.79052969e+16 -2.77721977e+16  3.11498974e+16]\n",
      " [-1.65131986e+16  1.87649984e+16  1.20095990e+16 -1.42613988e+16]]\n"
     ]
    }
   ],
   "source": [
    "import numpy as np\n",
    "from numpy.linalg import eig\n",
    "A=np.array([[1,2,3,4],[5,6,7,8],[9,10,11,12],[13,14,15,16]])\n",
    "print(A)\n",
    "w,v=eig(a)\n",
    "print('E-value:',w)\n",
    "print('E-vector:',v)\n",
    "inc=np.linalg.inv(A)\n",
    "d=np.linalg.det(A)\n",
    "print(d)\n",
    "print(inc)"
   ]
  },
  {
   "cell_type": "code",
   "execution_count": 12,
   "id": "8d29026d",
   "metadata": {
    "scrolled": true
   },
   "outputs": [
    {
     "name": "stdout",
     "output_type": "stream",
     "text": [
      "Enter any number:40\n",
      "380\n",
      "38\n"
     ]
    }
   ],
   "source": [
    "a=int(input(\"Enter any number:\"))\n",
    "b=0\n",
    "for x in range(0,a,2):\n",
    "    b=+x\n",
    "if x%2==0:\n",
    "    print(x*10)\n",
    "else:\n",
    "    print(x)\n",
    "print(b)"
   ]
  },
  {
   "cell_type": "raw",
   "id": "5b318b31",
   "metadata": {},
   "source": [
    "import numpy as np\n",
    "A=np.zeros(10)\n",
    "print(A)"
   ]
  },
  {
   "cell_type": "code",
   "execution_count": 3,
   "id": "40f1de3f",
   "metadata": {},
   "outputs": [
    {
     "name": "stdout",
     "output_type": "stream",
     "text": [
      "[0. 0. 0. 0. 0. 0. 0. 0. 0. 0.]\n",
      "[1. 1. 1. 1. 1. 1. 1. 1. 1. 1.]\n",
      "[5. 5. 5. 5. 5. 5. 5. 5. 5. 5.]\n"
     ]
    }
   ],
   "source": [
    "import numpy as np\n",
    "A=np.zeros(10)\n",
    "print(A)\n",
    "C=np.ones(10)\n",
    "print(C)\n",
    "B=np.ones(10)*5\n",
    "print(B)"
   ]
  },
  {
   "cell_type": "code",
   "execution_count": 1,
   "id": "f1d6bf63",
   "metadata": {},
   "outputs": [
    {
     "name": "stdout",
     "output_type": "stream",
     "text": [
      "ENTER YOUR NAME\\lnALVIN\n",
      "my name is ALVIN\n",
      "Age=19\n",
      "Age=23\n",
      "Age=12\n",
      "Age=9\n",
      "Age=37\n",
      "Age=27\n"
     ]
    }
   ],
   "source": [
    "F=input(\"ENTER YOUR NAME\\ln\")\n",
    "print(f\"my name is {F}\")\n",
    "age=[19,23,12,9,37,27]\n",
    "for age_no in age:\n",
    "    print(Age={age_no\n",
    "    "
   ]
  },
  {
   "cell_type": "code",
   "execution_count": null,
   "id": "ec672ee4",
   "metadata": {},
   "outputs": [],
   "source": []
  },
  {
   "cell_type": "code",
   "execution_count": null,
   "id": "5c1db9ce",
   "metadata": {},
   "outputs": [],
   "source": []
  }
 ],
 "metadata": {
  "kernelspec": {
   "display_name": "Python 3 (ipykernel)",
   "language": "python",
   "name": "python3"
  },
  "language_info": {
   "codemirror_mode": {
    "name": "ipython",
    "version": 3
   },
   "file_extension": ".py",
   "mimetype": "text/x-python",
   "name": "python",
   "nbconvert_exporter": "python",
   "pygments_lexer": "ipython3",
   "version": "3.9.12"
  }
 },
 "nbformat": 4,
 "nbformat_minor": 5
}
